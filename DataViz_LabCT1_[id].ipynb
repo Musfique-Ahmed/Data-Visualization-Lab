{
  "nbformat": 4,
  "nbformat_minor": 0,
  "metadata": {
    "colab": {
      "provenance": []
    },
    "kernelspec": {
      "name": "python3",
      "display_name": "Python 3"
    },
    "language_info": {
      "name": "python"
    }
  },
  "cells": [
    {
      "cell_type": "markdown",
      "source": [
        "# Task: ICPC Dhaka Regional 2024 Data Analysis"
      ],
      "metadata": {
        "id": "CP-9HZbVb4tR"
      }
    },
    {
      "cell_type": "markdown",
      "source": [
        "The International Collegiate Programming Contest (ICPC) is the oldest, largest, and most prestigious programming competition in the world, often hailed as the \"World Cup of Programming.\" It is a team-based competition where university students work in teams of three to solve a set of complex algorithmic problems within a five-hour time limit. The contest fosters creativity, teamwork, and innovation in building new software programs and enables students to test their ability to perform under pressure."
      ],
      "metadata": {
        "id": "hQ5f8Ge3b_-D"
      }
    },
    {
      "cell_type": "markdown",
      "source": [
        "## Contest Rules"
      ],
      "metadata": {
        "id": "sj3AI4EscGud"
      }
    },
    {
      "cell_type": "markdown",
      "source": [
        "In programming contests like the ICPC, the ranking of teams is determined by two main factors. The primary factor is the **total number of problems solved**; the team that solves the most problems ranks higher. If two or more teams solve the same number of problems, a tie is broken by the **total penalty time**. The team with the lower total penalty time is ranked higher. The penalty for a single solved problem is calculated as the time taken to solve it (in minutes from the start of the contest) plus a 20-minute penalty for each incorrect submission for that problem. For example, if a team solves a problem on their 3rd attempt at the 200-minute mark, the penalty for that problem will be 200 + (2 × 20) = 240. Importantly, *teams do not incur any penalty for problems they did not solve, regardless of how many incorrect attempts they made.*"
      ],
      "metadata": {
        "id": "ELjBaJu9cIxl"
      }
    },
    {
      "cell_type": "markdown",
      "source": [
        "## The Dataset"
      ],
      "metadata": {
        "id": "9h_obhrzfr5L"
      }
    },
    {
      "cell_type": "markdown",
      "source": [
        "You are provided with a CSV file named *icpc_dhaka_2024.csv* containing the performance data of all the teams. The sheet has the following columns:\n",
        "\n",
        "- **name**: The unique name of the team.\n",
        "- **institution**: The university the team belongs to.\n",
        "- **attemptsForX**: A column for each problem (e.g., attemptsForA, attemptsForB) that shows the total number of attempts a team made on that problem.\n",
        "- **timeForX**: A column for each problem (e.g., timeForA, timeForB) that shows the time in minutes at which the team got their first correct submission. If this cell is empty, it means the team did not solve that problem."
      ],
      "metadata": {
        "id": "el199UIMf4Tk"
      }
    },
    {
      "cell_type": "markdown",
      "source": [
        "## Your Tasks"
      ],
      "metadata": {
        "id": "dTZgImK7gSMo"
      }
    },
    {
      "cell_type": "markdown",
      "source": [
        "Your goal is to analyze this dataset to find interesting patterns and insights. You are required to complete the following tasks:\n",
        "\n",
        "1. **Rank the Top Teams**\n",
        "Calculate each team's total problems solved and their total penalty time based on the rules described above. Then, generate a final ranked list showing the top 10 teams along with their rank, name, institution, problems solved, and total penalty.\n",
        "\n",
        "2. **Identify the Fastest Solvers**\n",
        "For each problem that was solved by at least one team, find the name of the team that submitted the first correct solution (i.e., had the minimum solve time). Present your findings as a list, showing each problem, the fastest team's name, and their solve time.\n",
        "\n",
        "3. **Open-Ended Data Visualization & Exploratory Analysis**\n",
        "This is your chance to explore the data creatively! Use some of your known visualization tools to analyze the data and present your findings. You have the freedom to investigate any aspect of the data you find interesting.\n",
        "For this task, remember to *follow good data visualization principles* and *write a clear explanation* of your findings for each visualization you create. Some ideas to get you started can be:\n",
        "\n",
        "  - **Problem Difficulty**: Analyze the solve times and solve counts for each problem to determine which problems were the easiest and which were the hardest.\n",
        "\n",
        "  - **Top Team Dashboard**: Create a dashboard-style visualization that summarizes the performance of the top 5 or 10 teams. This could include their solved counts, penalty breakdown, and which problems they solved.\n",
        "\n",
        "  - **Institutional Performance**: Analyze and compare the performance of the top institutions in the contest like BUET, SUST, DU, BRACU, IUT, RUET, KUET, CoU."
      ],
      "metadata": {
        "id": "2Iy9qegIgV-P"
      }
    },
    {
      "cell_type": "markdown",
      "source": [
        "# Your Solution"
      ],
      "metadata": {
        "id": "kLY4h2dPicmF"
      }
    },
    {
      "cell_type": "code",
      "source": [
        "# START YOUR CODE HERE"
      ],
      "metadata": {
        "id": "U3eCnez0ie0s"
      },
      "execution_count": null,
      "outputs": []
    }
  ]
}